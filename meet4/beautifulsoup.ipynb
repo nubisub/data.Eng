{
 "cells": [
  {
   "cell_type": "code",
   "execution_count": null,
   "metadata": {},
   "outputs": [],
   "source": [
    "# Praktikum BeautifulSoup n requests"
   ]
  },
  {
   "attachments": {},
   "cell_type": "markdown",
   "metadata": {},
   "source": [
    "### Import libraries"
   ]
  },
  {
   "cell_type": "code",
   "execution_count": 5,
   "metadata": {},
   "outputs": [],
   "source": [
    "import requests\n",
    "from bs4 import BeautifulSoup\n",
    "import pandas as pd"
   ]
  },
  {
   "attachments": {},
   "cell_type": "markdown",
   "metadata": {},
   "source": [
    "### Scrap Data - Text"
   ]
  },
  {
   "cell_type": "code",
   "execution_count": 3,
   "metadata": {},
   "outputs": [
    {
     "name": "stdout",
     "output_type": "stream",
     "text": [
      "[<a href=\"/title/tt0111161/\" title=\"Frank Darabont (dir.), Tim Robbins, Morgan Freeman\">The Shawshank Redemption</a>, <a href=\"/title/tt0068646/\" title=\"Francis Ford Coppola (dir.), Marlon Brando, Al Pacino\">The Godfather</a>, <a href=\"/title/tt0468569/\" title=\"Christopher Nolan (dir.), Christian Bale, Heath Ledger\">The Dark Knight</a>, <a href=\"/title/tt0071562/\" title=\"Francis Ford Coppola (dir.), Al Pacino, Robert De Niro\">The Godfather Part II</a>, <a href=\"/title/tt0050083/\" title=\"Sidney Lumet (dir.), Henry Fonda, Lee J. Cobb\">12 Angry Men</a>]\n"
     ]
    }
   ],
   "source": [
    "halaman = requests.get('https://www.imdb.com/chart/top/')\n",
    "halaman_parsed = BeautifulSoup(halaman.content, 'html.parser')\n",
    "juduls = halaman_parsed.select(\"table tbody tr td.titleColumn a\")\n",
    "print(juduls[:5])"
   ]
  },
  {
   "cell_type": "code",
   "execution_count": 6,
   "metadata": {},
   "outputs": [
    {
     "name": "stdout",
     "output_type": "stream",
     "text": [
      "[{'judul': 'The Shawshank Redemption', 'aktor': 'Frank Darabont (dir.), Tim Robbins, Morgan Freeman', 'rating': '9.2', 'poster': 'https://m.media-amazon.com/images/M/MV5BMDFkYTc0MGEtZmNhMC00ZDIzLWFmNTEtODM1ZmRlYWMwMWFmXkEyXkFqcGdeQXVyMTMxODk2OTU@._V1_UY67_CR0,0,45,67_AL_.jpg'}, {'judul': 'The Godfather', 'aktor': 'Francis Ford Coppola (dir.), Marlon Brando, Al Pacino', 'rating': '9.2', 'poster': 'https://m.media-amazon.com/images/M/MV5BM2MyNjYxNmUtYTAwNi00MTYxLWJmNWYtYzZlODY3ZTk3OTFlXkEyXkFqcGdeQXVyNzkwMjQ5NzM@._V1_UY67_CR1,0,45,67_AL_.jpg'}, {'judul': 'The Dark Knight', 'aktor': 'Christopher Nolan (dir.), Christian Bale, Heath Ledger', 'rating': '9.0', 'poster': 'https://m.media-amazon.com/images/M/MV5BMTMxNTMwODM0NF5BMl5BanBnXkFtZTcwODAyMTk2Mw@@._V1_UY67_CR0,0,45,67_AL_.jpg'}, {'judul': 'The Godfather Part II', 'aktor': 'Francis Ford Coppola (dir.), Al Pacino, Robert De Niro', 'rating': '9.0', 'poster': 'https://m.media-amazon.com/images/M/MV5BMWMwMGQzZTItY2JlNC00OWZiLWIyMDctNDk2ZDQ2YjRjMWQ0XkEyXkFqcGdeQXVyNzkwMjQ5NzM@._V1_UY67_CR1,0,45,67_AL_.jpg'}, {'judul': '12 Angry Men', 'aktor': 'Sidney Lumet (dir.), Henry Fonda, Lee J. Cobb', 'rating': '9.0', 'poster': 'https://m.media-amazon.com/images/M/MV5BMWU4N2FjNzYtNTVkNC00NzQ0LTg0MjAtYTJlMjFhNGUxZDFmXkEyXkFqcGdeQXVyNjc1NTYyMjg@._V1_UX45_CR0,0,45,67_AL_.jpg'}]\n"
     ]
    }
   ],
   "source": [
    "movies = halaman_parsed.select(\"table tbody tr\")\n",
    "hasil_data = []\n",
    "for movie in movies:\n",
    "    judul = movie.select('td.titleColumn a')[0].get_text()\n",
    "    aktor = movie.select('td.titleColumn a')[0].get(\"title\")\n",
    "    rating = movie.select('td.ratingColumn')[0].get_text()\n",
    "    poster = movie.select('td.posterColumn a img')[0].get(\"src\")\n",
    "    hasil_data.append({\"judul\": judul, \"aktor\": aktor, \"rating\":\n",
    "    rating.strip('\\n'), \"poster\": poster})\n",
    "print(hasil_data[:5])\n",
    "hasil_data_df = pd.DataFrame(hasil_data)\n",
    "hasil_data_df.to_csv('movies2.csv', index=False)"
   ]
  },
  {
   "attachments": {},
   "cell_type": "markdown",
   "metadata": {},
   "source": [
    "### Scrap Data - Image"
   ]
  },
  {
   "cell_type": "code",
   "execution_count": null,
   "metadata": {},
   "outputs": [],
   "source": [
    "from os.path import basename\n",
    "movies = halaman_parsed.select(\"table tbody tr\")\n",
    "hasil_data = []\n",
    "for movie in movies:\n",
    "    judul = movie.select('td.titleColumn a')[0].get_text()\n",
    "    aktor = movie.select('td.titleColumn a')[0].get(\"title\")\n",
    "    rating = movie.select('td.ratingColumn')[0].get_text()\n",
    "    poster = movie.select('td.posterColumn a img')[0].get(\"src\")\n",
    "    hasil_data.append({\"judul\": judul, \"aktor\": aktor, \"rating\":\n",
    "    rating.strip('\\n'), \"poster\": poster})\n",
    "    with open('imdb/'\n",
    "    +basename(poster), 'wb') as f:\n",
    "        f.write(requests.get(poster).content)"
   ]
  }
 ],
 "metadata": {
  "kernelspec": {
   "display_name": "Python 3",
   "language": "python",
   "name": "python3"
  },
  "language_info": {
   "codemirror_mode": {
    "name": "ipython",
    "version": 3
   },
   "file_extension": ".py",
   "mimetype": "text/x-python",
   "name": "python",
   "nbconvert_exporter": "python",
   "pygments_lexer": "ipython3",
   "version": "3.11.1"
  },
  "orig_nbformat": 4,
  "vscode": {
   "interpreter": {
    "hash": "c261aea317cc0286b3b3261fbba9abdec21eaa57589985bb7a274bf54d6cc0a7"
   }
  }
 },
 "nbformat": 4,
 "nbformat_minor": 2
}
