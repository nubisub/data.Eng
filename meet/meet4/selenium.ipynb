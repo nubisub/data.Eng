{
 "cells": [
  {
   "attachments": {},
   "cell_type": "markdown",
   "id": "f806211c",
   "metadata": {},
   "source": [
    "# Praktikum Selenium n BeautifulSoup"
   ]
  },
  {
   "attachments": {},
   "cell_type": "markdown",
   "id": "2124c0dd",
   "metadata": {},
   "source": [
    "### Prepare Packages"
   ]
  },
  {
   "cell_type": "code",
   "execution_count": null,
   "id": "c453c251",
   "metadata": {},
   "outputs": [],
   "source": [
    "import selenium.webdriver\n",
    "from selenium.webdriver.support.select import Select\n",
    "from selenium.webdriver.common.by import By\n",
    "\n",
    "chromedriver_path = 'chromedriver.exe'\n",
    "options = selenium.webdriver.ChromeOptions()\n",
    "options.headless =True\n",
    "driver = selenium.webdriver.Chrome(executable_path=chromedriver_path,options=options)"
   ]
  },
  {
   "attachments": {},
   "cell_type": "markdown",
   "id": "5fe0f16e",
   "metadata": {},
   "source": [
    "### Run Selenium"
   ]
  },
  {
   "cell_type": "code",
   "execution_count": 3,
   "id": "e289e81a",
   "metadata": {},
   "outputs": [],
   "source": [
    "driver.get(\"https://www.imdb.com/search/title/\")\n",
    "driver.find_element(By.ID, \"genres-3\").click()\n",
    "\n",
    "selectmin = Select(driver.find_element(By.NAME, \"user_rating-min\"))\n",
    "selectmin.select_by_visible_text(\"6.0\")\n",
    "\n",
    "selectmax = Select(driver.find_element(By.NAME, \"user_rating-max\"))\n",
    "selectmax.select_by_visible_text(\"10\")\n",
    "\n",
    "tahunfrom = driver.find_element(By.NAME, \"release_date-min\")\n",
    "tahunfrom.send_keys(\"2000\")\n",
    "tahunto = driver.find_element(By.NAME, \"release_date-max\")\n",
    "tahunto.send_keys(\"2020\")\n",
    "\n",
    "driver.find_element(By.XPATH, \"//button[text()='Search']\").click()"
   ]
  },
  {
   "attachments": {},
   "cell_type": "markdown",
   "id": "2d3b1d63",
   "metadata": {},
   "source": [
    "### Get Data and Save to CSV"
   ]
  },
  {
   "cell_type": "code",
   "execution_count": 6,
   "id": "37ffbb2a",
   "metadata": {},
   "outputs": [
    {
     "name": "stdout",
     "output_type": "stream",
     "text": [
      "[{'judul': 'Attack on Titan', 'desc': 'After his hometown is destroyed and his mother is killed, young Eren Jaeger vows to cleanse the earth of the giant humanoid Titans that have brought humanity to the brink of extinction.'}, {'judul': 'Rick and Morty', 'desc': 'An animated series that follows the exploits of a super scientist and his not-so-bright grandson.'}, {'judul': \"Bob's Burgers\", 'desc': 'Bob Belcher runs his dream restaurant with his wife and three children as their last hope of holding the family together.'}]\n"
     ]
    }
   ],
   "source": [
    "from bs4 import BeautifulSoup\n",
    "import pandas as pd\n",
    "\n",
    "halaman_parsed = BeautifulSoup(driver.page_source, 'html.parser')\n",
    "movies = halaman_parsed.select(\"div.lister-item\")\n",
    "hasil_data_sel = []\n",
    "for movie in movies:\n",
    "    judul = movie.select('div.lister-item-content h3.lister-item-header a')[0].get_text()\n",
    "    deskripsi = movie.select('div.lister-item-content p.text-muted')[1].get_text()\n",
    "    hasil_data_sel.append({\"judul\": judul, \"desc\": deskripsi.strip('\\n')})\n",
    "print(hasil_data_sel[:3])\n",
    "df = pd.DataFrame(hasil_data_sel)\n",
    "df.to_csv('movies.csv', index=False)\n"
   ]
  }
 ],
 "metadata": {
  "kernelspec": {
   "display_name": "Python 3",
   "language": "python",
   "name": "python3"
  },
  "language_info": {
   "codemirror_mode": {
    "name": "ipython",
    "version": 3
   },
   "file_extension": ".py",
   "mimetype": "text/x-python",
   "name": "python",
   "nbconvert_exporter": "python",
   "pygments_lexer": "ipython3",
   "version": "3.11.1"
  },
  "vscode": {
   "interpreter": {
    "hash": "c261aea317cc0286b3b3261fbba9abdec21eaa57589985bb7a274bf54d6cc0a7"
   }
  }
 },
 "nbformat": 4,
 "nbformat_minor": 5
}
