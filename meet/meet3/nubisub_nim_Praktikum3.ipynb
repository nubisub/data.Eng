{
  "cells": [
    {
      "attachments": {},
      "cell_type": "markdown",
      "metadata": {
        "id": "4ou9KVrL-1VU"
      },
      "source": [
        "# Praktikum Teknologi Perekayasaan Data\n",
        "*Tanggal Praktikum : Monday, February 20, 2023*\n",
        "\n",
        "\n",
        "\n",
        "```\n",
        "Nama   : nubisub nubisub\n",
        "NIM    : nim\n",
        "Kelas  : 3SIiiiiiiiiiiiiiiiiiiiiiiuuuuuuuuuuuuuuuuuuuuuuuuuu\n",
        "```\n",
        "\n",
        "\n",
        "---\n",
        "\n"
      ]
    },
    {
      "cell_type": "markdown",
      "metadata": {
        "id": "EXV1samH_XDs"
      },
      "source": [
        "###  Buatlah LIST yang berisi huruf-huruf dari nama panjang masing-masing"
      ]
    },
    {
      "cell_type": "code",
      "execution_count": 1,
      "metadata": {
        "id": "eDpW0BfN-ejR"
      },
      "outputs": [],
      "source": [
        "myList = ['n','u','b','i','s','u','b','n','u','b','i','s','u','b']"
      ]
    },
    {
      "cell_type": "markdown",
      "metadata": {
        "id": "IvJ-kP2I_yRw"
      },
      "source": [
        "### Hitung Jumlah Huruf Vokal"
      ]
    },
    {
      "cell_type": "code",
      "execution_count": 2,
      "metadata": {
        "id": "ftWzS4Nu_zPn"
      },
      "outputs": [],
      "source": [
        "vokString = \"AaEeIiOoUu\"\n",
        "def vokal(string, vok):\n",
        "    final = [each for each in string if each in vok]\n",
        "    return(len(final))"
      ]
    },
    {
      "cell_type": "markdown",
      "metadata": {
        "id": "qb1Y8BiTBzwj"
      },
      "source": [
        "### Hitung Jumlah Huruf *Konsonan*"
      ]
    },
    {
      "cell_type": "code",
      "execution_count": 3,
      "metadata": {
        "id": "xXYh0fozAZdQ"
      },
      "outputs": [],
      "source": [
        "konString = \"AaEeIiOoUu\"\n",
        "def konsonan(string, konso):\n",
        "    final = [each for each in string if each not in konso]\n",
        "    return (len(final))"
      ]
    },
    {
      "cell_type": "markdown",
      "metadata": {
        "id": "AVBkRrIMB2Dh"
      },
      "source": [
        "### Bandingkan Mana yang lebih banyak"
      ]
    },
    {
      "cell_type": "code",
      "execution_count": 4,
      "metadata": {
        "colab": {
          "base_uri": "https://localhost:8080/"
        },
        "id": "zYKxknyRBMit",
        "outputId": "e18d2eb0-16ff-4090-e8ba-193268a1d147"
      },
      "outputs": [
        {
          "name": "stdout",
          "output_type": "stream",
          "text": [
            "Vokal Lebih Banyak\n",
            "Banyak Huruf Vokal    :  6\n",
            "Banyak Huruf Konsonan :  8\n"
          ]
        }
      ],
      "source": [
        "countVokal = vokal(myList, vokString)\n",
        "countKonsonan = konsonan(myList, konString)\n",
        "\n",
        "if (countKonsonan < countVokal):\n",
        "  print(\"Konsonan Lebih Banyak\")\n",
        "else:\n",
        "  print(\"Vokal Lebih Banyak\")\n",
        "print(\"Banyak Huruf Vokal    : \", countVokal)\n",
        "print(\"Banyak Huruf Konsonan : \", countKonsonan)"
      ]
    }
  ],
  "metadata": {
    "colab": {
      "provenance": [],
      "toc_visible": true
    },
    "kernelspec": {
      "display_name": "Python 3",
      "language": "python",
      "name": "python3"
    },
    "language_info": {
      "codemirror_mode": {
        "name": "ipython",
        "version": 3
      },
      "file_extension": ".py",
      "mimetype": "text/x-python",
      "name": "python",
      "nbconvert_exporter": "python",
      "pygments_lexer": "ipython3",
      "version": "3.11.1"
    },
    "vscode": {
      "interpreter": {
        "hash": "c261aea317cc0286b3b3261fbba9abdec21eaa57589985bb7a274bf54d6cc0a7"
      }
    }
  },
  "nbformat": 4,
  "nbformat_minor": 0
}
